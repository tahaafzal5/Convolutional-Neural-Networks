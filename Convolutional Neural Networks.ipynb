{
 "cells": [
  {
   "cell_type": "code",
   "execution_count": 1,
   "metadata": {},
   "outputs": [],
   "source": [
    "import tensorflow as tf\n",
    "from tensorflow import keras\n",
    "\n",
    "import numpy as np\n",
    "import os\n",
    "\n",
    "np.random.seed(42)\n",
    "tf.random.set_seed(42)\n",
    "\n",
    "%matplotlib inline\n",
    "import matplotlib as mpl\n",
    "import matplotlib.pyplot as plt\n",
    "mpl.rc('axes', labelsize=14)\n",
    "mpl.rc('xtick', labelsize=12)\n",
    "mpl.rc('ytick', labelsize=12)"
   ]
  },
  {
   "cell_type": "code",
   "execution_count": 2,
   "metadata": {},
   "outputs": [],
   "source": [
    "(X_train_full, y_train_full), (X_test, y_test) = keras.datasets.mnist.load_data()\n",
    "X_train_full = X_train_full / 255.\n",
    "X_test = X_test / 255.\n",
    "X_train, X_valid = X_train_full[:-5000], X_train_full[-5000:]\n",
    "y_train, y_valid = y_train_full[:-5000], y_train_full[-5000:]\n",
    "\n",
    "X_train = X_train[..., np.newaxis]\n",
    "X_valid = X_valid[..., np.newaxis]\n",
    "X_test = X_test[..., np.newaxis]"
   ]
  },
  {
   "cell_type": "markdown",
   "metadata": {},
   "source": [
    "#### start: 1:22\n",
    "#### end: 1:37\n",
    "#### accuracy: 99.19\n",
    "#### default notebook"
   ]
  },
  {
   "cell_type": "code",
   "execution_count": null,
   "metadata": {},
   "outputs": [],
   "source": [
    "keras.backend.clear_session()\n",
    "tf.random.set_seed(42)\n",
    "np.random.seed(42)\n",
    "\n",
    "model = keras.models.Sequential([\n",
    "    \n",
    "    keras.layers.Conv2D(32, kernel_size=3, padding=\"same\", activation=\"relu\"),\n",
    "    keras.layers.Conv2D(64, kernel_size=3, padding=\"same\", activation=\"relu\"),\n",
    "    \n",
    "    keras.layers.MaxPool2D(),\n",
    "    keras.layers.Flatten(),\n",
    "    keras.layers.Dropout(0.25),\n",
    "    keras.layers.Dense(128, activation=\"relu\"),\n",
    "    keras.layers.Dropout(0.5),\n",
    "    keras.layers.Dense(10, activation=\"softmax\")\n",
    "])\n",
    "\n",
    "model.compile(loss=\"sparse_categorical_crossentropy\", optimizer=\"nadam\",\n",
    "              metrics=[\"accuracy\"])\n",
    "\n",
    "model.fit(X_train, y_train, epochs=10, validation_data=(X_valid, y_valid))\n",
    "\n",
    "model.evaluate(X_test, y_test)"
   ]
  },
  {
   "cell_type": "markdown",
   "metadata": {},
   "source": [
    "#### start: 6:19\n",
    "#### end: 6:26\n",
    "#### accuracy: 99.04%\n",
    "#### epochs = 5"
   ]
  },
  {
   "cell_type": "code",
   "execution_count": 3,
   "metadata": {},
   "outputs": [
    {
     "name": "stdout",
     "output_type": "stream",
     "text": [
      "Train on 55000 samples, validate on 5000 samples\n",
      "Epoch 1/5\n",
      "55000/55000 [==============================] - 94s 2ms/sample - loss: 0.1890 - accuracy: 0.9415 - val_loss: 0.0517 - val_accuracy: 0.9864\n",
      "Epoch 2/5\n",
      "55000/55000 [==============================] - 93s 2ms/sample - loss: 0.0819 - accuracy: 0.9750 - val_loss: 0.0402 - val_accuracy: 0.9894\n",
      "Epoch 3/5\n",
      "55000/55000 [==============================] - 93s 2ms/sample - loss: 0.0601 - accuracy: 0.9813 - val_loss: 0.0330 - val_accuracy: 0.9912\n",
      "Epoch 4/5\n",
      "55000/55000 [==============================] - 90s 2ms/sample - loss: 0.0503 - accuracy: 0.9846 - val_loss: 0.0336 - val_accuracy: 0.9910\n",
      "Epoch 5/5\n",
      "55000/55000 [==============================] - 92s 2ms/sample - loss: 0.0397 - accuracy: 0.9875 - val_loss: 0.0319 - val_accuracy: 0.9920\n",
      "10000/10000 [==============================] - 3s 274us/sample - loss: 0.0299 - accuracy: 0.9904\n"
     ]
    },
    {
     "data": {
      "text/plain": [
       "[0.029911718372713586, 0.9904]"
      ]
     },
     "execution_count": 3,
     "metadata": {},
     "output_type": "execute_result"
    }
   ],
   "source": [
    "keras.backend.clear_session()\n",
    "tf.random.set_seed(42)\n",
    "np.random.seed(42)\n",
    "\n",
    "model = keras.models.Sequential([\n",
    "    \n",
    "    keras.layers.Conv2D(32, kernel_size=3, padding=\"same\", activation=\"relu\"),\n",
    "    keras.layers.Conv2D(64, kernel_size=3, padding=\"same\", activation=\"relu\"),\n",
    "    \n",
    "    keras.layers.MaxPool2D(),\n",
    "    keras.layers.Flatten(),\n",
    "    keras.layers.Dropout(0.25),\n",
    "    keras.layers.Dense(128, activation=\"relu\"),\n",
    "    keras.layers.Dropout(0.5),\n",
    "    keras.layers.Dense(10, activation=\"softmax\")\n",
    "])\n",
    "\n",
    "model.compile(loss=\"sparse_categorical_crossentropy\", optimizer=\"nadam\",\n",
    "              metrics=[\"accuracy\"])\n",
    "\n",
    "model.fit(X_train, y_train, epochs=5, validation_data=(X_valid, y_valid))\n",
    "\n",
    "model.evaluate(X_test, y_test)"
   ]
  },
  {
   "cell_type": "markdown",
   "metadata": {},
   "source": [
    "#### start: 6:28\n",
    "#### end: 6:51\n",
    "#### accuracy: 99.23%\n",
    "#### epochs = 15"
   ]
  },
  {
   "cell_type": "code",
   "execution_count": 4,
   "metadata": {},
   "outputs": [
    {
     "name": "stdout",
     "output_type": "stream",
     "text": [
      "Train on 55000 samples, validate on 5000 samples\n",
      "Epoch 1/15\n",
      "55000/55000 [==============================] - 95s 2ms/sample - loss: 0.1890 - accuracy: 0.9415 - val_loss: 0.0517 - val_accuracy: 0.9864\n",
      "Epoch 2/15\n",
      "55000/55000 [==============================] - 93s 2ms/sample - loss: 0.0819 - accuracy: 0.9750 - val_loss: 0.0402 - val_accuracy: 0.9894\n",
      "Epoch 3/15\n",
      "55000/55000 [==============================] - 94s 2ms/sample - loss: 0.0601 - accuracy: 0.9813 - val_loss: 0.0330 - val_accuracy: 0.9912\n",
      "Epoch 4/15\n",
      "55000/55000 [==============================] - 93s 2ms/sample - loss: 0.0503 - accuracy: 0.9846 - val_loss: 0.0336 - val_accuracy: 0.9910\n",
      "Epoch 5/15\n",
      "55000/55000 [==============================] - 92s 2ms/sample - loss: 0.0397 - accuracy: 0.9875 - val_loss: 0.0319 - val_accuracy: 0.9920\n",
      "Epoch 6/15\n",
      "55000/55000 [==============================] - 93s 2ms/sample - loss: 0.0366 - accuracy: 0.9882 - val_loss: 0.0295 - val_accuracy: 0.9924\n",
      "Epoch 7/15\n",
      "55000/55000 [==============================] - 92s 2ms/sample - loss: 0.0333 - accuracy: 0.9893 - val_loss: 0.0366 - val_accuracy: 0.9912\n",
      "Epoch 8/15\n",
      "55000/55000 [==============================] - 94s 2ms/sample - loss: 0.0293 - accuracy: 0.9906 - val_loss: 0.0420 - val_accuracy: 0.9902\n",
      "Epoch 9/15\n",
      "55000/55000 [==============================] - 100s 2ms/sample - loss: 0.0269 - accuracy: 0.9913 - val_loss: 0.0366 - val_accuracy: 0.9910\n",
      "Epoch 10/15\n",
      "55000/55000 [==============================] - 99s 2ms/sample - loss: 0.0228 - accuracy: 0.9922 - val_loss: 0.0457 - val_accuracy: 0.9920\n",
      "Epoch 11/15\n",
      "55000/55000 [==============================] - 96s 2ms/sample - loss: 0.0224 - accuracy: 0.9929 - val_loss: 0.0424 - val_accuracy: 0.9914\n",
      "Epoch 12/15\n",
      "55000/55000 [==============================] - 94s 2ms/sample - loss: 0.0207 - accuracy: 0.9933 - val_loss: 0.0442 - val_accuracy: 0.9900\n",
      "Epoch 13/15\n",
      "55000/55000 [==============================] - 94s 2ms/sample - loss: 0.0199 - accuracy: 0.9936 - val_loss: 0.0331 - val_accuracy: 0.9922\n",
      "Epoch 14/15\n",
      "55000/55000 [==============================] - 94s 2ms/sample - loss: 0.0207 - accuracy: 0.9933 - val_loss: 0.0379 - val_accuracy: 0.9934\n",
      "Epoch 15/15\n",
      "55000/55000 [==============================] - 101s 2ms/sample - loss: 0.0170 - accuracy: 0.9949 - val_loss: 0.0394 - val_accuracy: 0.9924\n",
      "10000/10000 [==============================] - 3s 283us/sample - loss: 0.0330 - accuracy: 0.9923\n"
     ]
    },
    {
     "data": {
      "text/plain": [
       "[0.03301791804234945, 0.9923]"
      ]
     },
     "execution_count": 4,
     "metadata": {},
     "output_type": "execute_result"
    }
   ],
   "source": [
    "keras.backend.clear_session()\n",
    "tf.random.set_seed(42)\n",
    "np.random.seed(42)\n",
    "\n",
    "model = keras.models.Sequential([\n",
    "    \n",
    "    keras.layers.Conv2D(32, kernel_size=3, padding=\"same\", activation=\"relu\"),\n",
    "    keras.layers.Conv2D(64, kernel_size=3, padding=\"same\", activation=\"relu\"),\n",
    "    \n",
    "    keras.layers.MaxPool2D(),\n",
    "    keras.layers.Flatten(),\n",
    "    keras.layers.Dropout(0.25),\n",
    "    keras.layers.Dense(128, activation=\"relu\"),\n",
    "    keras.layers.Dropout(0.5),\n",
    "    keras.layers.Dense(10, activation=\"softmax\")\n",
    "])\n",
    "\n",
    "model.compile(loss=\"sparse_categorical_crossentropy\", optimizer=\"nadam\",\n",
    "              metrics=[\"accuracy\"])\n",
    "\n",
    "model.fit(X_train, y_train, epochs=15, validation_data=(X_valid, y_valid))\n",
    "\n",
    "model.evaluate(X_test, y_test)"
   ]
  },
  {
   "cell_type": "markdown",
   "metadata": {},
   "source": [
    "#### start: 6:53\n",
    "#### end: 7:09\n",
    "#### accuracy: 99.13%\n",
    "\n",
    "#### keras.layers.Dense(256, activation = \"relu\")\n",
    "#### keras.layers.Dropout(0.5)\n",
    "\n",
    "#### epochs = 10"
   ]
  },
  {
   "cell_type": "code",
   "execution_count": 5,
   "metadata": {
    "scrolled": false
   },
   "outputs": [
    {
     "name": "stdout",
     "output_type": "stream",
     "text": [
      "Train on 55000 samples, validate on 5000 samples\n",
      "Epoch 1/10\n",
      "55000/55000 [==============================] - 97s 2ms/sample - loss: 0.2816 - accuracy: 0.9141 - val_loss: 0.0494 - val_accuracy: 0.9852\n",
      "Epoch 2/10\n",
      "55000/55000 [==============================] - 94s 2ms/sample - loss: 0.1097 - accuracy: 0.9701 - val_loss: 0.0420 - val_accuracy: 0.9880\n",
      "Epoch 3/10\n",
      "55000/55000 [==============================] - 93s 2ms/sample - loss: 0.0891 - accuracy: 0.9746 - val_loss: 0.0373 - val_accuracy: 0.9908\n",
      "Epoch 4/10\n",
      "55000/55000 [==============================] - 92s 2ms/sample - loss: 0.0759 - accuracy: 0.9793 - val_loss: 0.0348 - val_accuracy: 0.9900\n",
      "Epoch 5/10\n",
      "55000/55000 [==============================] - 91s 2ms/sample - loss: 0.0611 - accuracy: 0.9825 - val_loss: 0.0337 - val_accuracy: 0.9910\n",
      "Epoch 6/10\n",
      "55000/55000 [==============================] - 95s 2ms/sample - loss: 0.0527 - accuracy: 0.9850 - val_loss: 0.0345 - val_accuracy: 0.9910\n",
      "Epoch 7/10\n",
      "55000/55000 [==============================] - 98s 2ms/sample - loss: 0.0500 - accuracy: 0.9860 - val_loss: 0.0354 - val_accuracy: 0.9906\n",
      "Epoch 8/10\n",
      "55000/55000 [==============================] - 96s 2ms/sample - loss: 0.0440 - accuracy: 0.9873 - val_loss: 0.0398 - val_accuracy: 0.9906\n",
      "Epoch 9/10\n",
      "55000/55000 [==============================] - 96s 2ms/sample - loss: 0.0431 - accuracy: 0.9882 - val_loss: 0.0313 - val_accuracy: 0.9930\n",
      "Epoch 10/10\n",
      "55000/55000 [==============================] - 94s 2ms/sample - loss: 0.0368 - accuracy: 0.9894 - val_loss: 0.0384 - val_accuracy: 0.9920\n",
      "10000/10000 [==============================] - 3s 262us/sample - loss: 0.0314 - accuracy: 0.9913\n"
     ]
    },
    {
     "data": {
      "text/plain": [
       "[0.03138194991455293, 0.9913]"
      ]
     },
     "execution_count": 5,
     "metadata": {},
     "output_type": "execute_result"
    }
   ],
   "source": [
    "keras.backend.clear_session()\n",
    "tf.random.set_seed(42)\n",
    "np.random.seed(42)\n",
    "\n",
    "model = keras.models.Sequential([\n",
    "    \n",
    "    keras.layers.Conv2D(32, kernel_size=3, padding=\"same\", activation=\"relu\"),\n",
    "    keras.layers.Conv2D(64, kernel_size=3, padding=\"same\", activation=\"relu\"),\n",
    "    \n",
    "    keras.layers.MaxPool2D(),\n",
    "    keras.layers.Flatten(),\n",
    "    keras.layers.Dropout(0.25),\n",
    "    keras.layers.Dense(128, activation=\"relu\"),\n",
    "    keras.layers.Dropout(0.5),\n",
    "    keras.layers.Dense(256, activation=\"relu\"),\n",
    "    keras.layers.Dropout(0.5),\n",
    "    keras.layers.Dense(10, activation=\"softmax\")\n",
    "])\n",
    "\n",
    "model.compile(loss=\"sparse_categorical_crossentropy\", optimizer=\"nadam\",\n",
    "              metrics=[\"accuracy\"])\n",
    "\n",
    "model.fit(X_train, y_train, epochs=10, validation_data=(X_valid, y_valid))\n",
    "\n",
    "model.evaluate(X_test, y_test)"
   ]
  },
  {
   "cell_type": "markdown",
   "metadata": {},
   "source": [
    "#### start: 7:10\n",
    "#### end: 7:26\n",
    "#### accuracy: 99.18%\n",
    "\n",
    "#### keras.layers.Dense(256, activation = \"relu\")\n",
    "\n",
    "#### epochs = 10"
   ]
  },
  {
   "cell_type": "code",
   "execution_count": 6,
   "metadata": {},
   "outputs": [
    {
     "name": "stdout",
     "output_type": "stream",
     "text": [
      "Train on 55000 samples, validate on 5000 samples\n",
      "Epoch 1/10\n",
      "55000/55000 [==============================] - 94s 2ms/sample - loss: 0.2174 - accuracy: 0.9336 - val_loss: 0.0540 - val_accuracy: 0.9852\n",
      "Epoch 2/10\n",
      "55000/55000 [==============================] - 99s 2ms/sample - loss: 0.0897 - accuracy: 0.9739 - val_loss: 0.0413 - val_accuracy: 0.9904\n",
      "Epoch 3/10\n",
      "55000/55000 [==============================] - 94s 2ms/sample - loss: 0.0692 - accuracy: 0.9793 - val_loss: 0.0352 - val_accuracy: 0.9912\n",
      "Epoch 4/10\n",
      "55000/55000 [==============================] - 94s 2ms/sample - loss: 0.0607 - accuracy: 0.9823 - val_loss: 0.0343 - val_accuracy: 0.9902\n",
      "Epoch 5/10\n",
      "55000/55000 [==============================] - 96s 2ms/sample - loss: 0.0505 - accuracy: 0.9848 - val_loss: 0.0288 - val_accuracy: 0.9928\n",
      "Epoch 6/10\n",
      "55000/55000 [==============================] - 96s 2ms/sample - loss: 0.0421 - accuracy: 0.9867 - val_loss: 0.0309 - val_accuracy: 0.9916\n",
      "Epoch 7/10\n",
      "55000/55000 [==============================] - 101s 2ms/sample - loss: 0.0371 - accuracy: 0.9881 - val_loss: 0.0336 - val_accuracy: 0.9920\n",
      "Epoch 8/10\n",
      "55000/55000 [==============================] - 97s 2ms/sample - loss: 0.0347 - accuracy: 0.9890 - val_loss: 0.0342 - val_accuracy: 0.9918\n",
      "Epoch 9/10\n",
      "55000/55000 [==============================] - 95s 2ms/sample - loss: 0.0331 - accuracy: 0.9894 - val_loss: 0.0297 - val_accuracy: 0.9926\n",
      "Epoch 10/10\n",
      "55000/55000 [==============================] - 95s 2ms/sample - loss: 0.0302 - accuracy: 0.9908 - val_loss: 0.0283 - val_accuracy: 0.9940\n",
      "10000/10000 [==============================] - 3s 265us/sample - loss: 0.0266 - accuracy: 0.9918\n"
     ]
    },
    {
     "data": {
      "text/plain": [
       "[0.026581565553323982, 0.9918]"
      ]
     },
     "execution_count": 6,
     "metadata": {},
     "output_type": "execute_result"
    }
   ],
   "source": [
    "keras.backend.clear_session()\n",
    "tf.random.set_seed(42)\n",
    "np.random.seed(42)\n",
    "\n",
    "model = keras.models.Sequential([\n",
    "    \n",
    "    keras.layers.Conv2D(32, kernel_size=3, padding=\"same\", activation=\"relu\"),\n",
    "    keras.layers.Conv2D(64, kernel_size=3, padding=\"same\", activation=\"relu\"),\n",
    "    \n",
    "    keras.layers.MaxPool2D(),\n",
    "    keras.layers.Flatten(),\n",
    "    keras.layers.Dropout(0.25),\n",
    "    keras.layers.Dense(128, activation=\"relu\"),\n",
    "    keras.layers.Dropout(0.5),\n",
    "    keras.layers.Dense(256, activation=\"relu\"),\n",
    "    keras.layers.Dense(10, activation=\"softmax\")\n",
    "])\n",
    "\n",
    "model.compile(loss=\"sparse_categorical_crossentropy\", optimizer=\"nadam\",\n",
    "              metrics=[\"accuracy\"])\n",
    "\n",
    "model.fit(X_train, y_train, epochs=10, validation_data=(X_valid, y_valid))\n",
    "\n",
    "model.evaluate(X_test, y_test)"
   ]
  },
  {
   "cell_type": "markdown",
   "metadata": {},
   "source": [
    "#### start: 7:29\n",
    "#### end: 7:50\n",
    "#### accuracy: 99.12%\n",
    "\n",
    "#### keras.layers.Dense(256, activation=\"relu\"),\n",
    "#### keras.layers.Dropout(0.5),\n",
    "#### keras.layers.Dense(256, activation=\"relu\"),\n",
    "#### keras.layers.Dropout(0.5),\n",
    "\n",
    "#### epochs = 10"
   ]
  },
  {
   "cell_type": "code",
   "execution_count": 7,
   "metadata": {},
   "outputs": [
    {
     "name": "stdout",
     "output_type": "stream",
     "text": [
      "Train on 55000 samples, validate on 5000 samples\n",
      "Epoch 1/10\n",
      "55000/55000 [==============================] - 131s 2ms/sample - loss: 0.2237 - accuracy: 0.9319 - val_loss: 0.0565 - val_accuracy: 0.9842\n",
      "Epoch 2/10\n",
      "55000/55000 [==============================] - 127s 2ms/sample - loss: 0.0874 - accuracy: 0.9752 - val_loss: 0.0399 - val_accuracy: 0.9892\n",
      "Epoch 3/10\n",
      "55000/55000 [==============================] - 125s 2ms/sample - loss: 0.0640 - accuracy: 0.9816 - val_loss: 0.0310 - val_accuracy: 0.9922\n",
      "Epoch 4/10\n",
      "55000/55000 [==============================] - 125s 2ms/sample - loss: 0.0533 - accuracy: 0.9844 - val_loss: 0.0338 - val_accuracy: 0.9918\n",
      "Epoch 5/10\n",
      "55000/55000 [==============================] - 125s 2ms/sample - loss: 0.0455 - accuracy: 0.9869 - val_loss: 0.0292 - val_accuracy: 0.9914\n",
      "Epoch 6/10\n",
      "55000/55000 [==============================] - 123s 2ms/sample - loss: 0.0392 - accuracy: 0.9887 - val_loss: 0.0347 - val_accuracy: 0.9904\n",
      "Epoch 7/10\n",
      "55000/55000 [==============================] - 132s 2ms/sample - loss: 0.0358 - accuracy: 0.9898 - val_loss: 0.0300 - val_accuracy: 0.9926\n",
      "Epoch 8/10\n",
      "55000/55000 [==============================] - 133s 2ms/sample - loss: 0.0313 - accuracy: 0.9909 - val_loss: 0.0300 - val_accuracy: 0.9926\n",
      "Epoch 9/10\n",
      "55000/55000 [==============================] - 141s 3ms/sample - loss: 0.0290 - accuracy: 0.9915 - val_loss: 0.0330 - val_accuracy: 0.9922\n",
      "Epoch 10/10\n",
      "55000/55000 [==============================] - 127s 2ms/sample - loss: 0.0276 - accuracy: 0.9923 - val_loss: 0.0345 - val_accuracy: 0.9928\n",
      "10000/10000 [==============================] - 3s 308us/sample - loss: 0.0343 - accuracy: 0.9912\n"
     ]
    },
    {
     "data": {
      "text/plain": [
       "[0.03427371580859634, 0.9912]"
      ]
     },
     "execution_count": 7,
     "metadata": {},
     "output_type": "execute_result"
    }
   ],
   "source": [
    "keras.backend.clear_session()\n",
    "tf.random.set_seed(42)\n",
    "np.random.seed(42)\n",
    "\n",
    "model = keras.models.Sequential([\n",
    "    \n",
    "    keras.layers.Conv2D(32, kernel_size=3, padding=\"same\", activation=\"relu\"),\n",
    "    keras.layers.Conv2D(64, kernel_size=3, padding=\"same\", activation=\"relu\"),\n",
    "    \n",
    "    keras.layers.MaxPool2D(),\n",
    "    keras.layers.Flatten(),\n",
    "    keras.layers.Dropout(0.25),\n",
    "    keras.layers.Dense(256, activation=\"relu\"),\n",
    "    keras.layers.Dropout(0.5),\n",
    "    keras.layers.Dense(256, activation=\"relu\"),\n",
    "    keras.layers.Dropout(0.5),\n",
    "    keras.layers.Dense(10, activation=\"softmax\")\n",
    "])\n",
    "\n",
    "model.compile(loss=\"sparse_categorical_crossentropy\", optimizer=\"nadam\",\n",
    "              metrics=[\"accuracy\"])\n",
    "\n",
    "model.fit(X_train, y_train, epochs=10, validation_data=(X_valid, y_valid))\n",
    "\n",
    "model.evaluate(X_test, y_test)"
   ]
  },
  {
   "cell_type": "markdown",
   "metadata": {},
   "source": [
    "#### start: 7:50\n",
    "#### end: 8:38\n",
    "#### accuracy: 99.18%\n",
    "\n",
    "#### keras.layers.Conv2D(128, kernel_size=3, padding=\"same\", activation=\"relu\")\n",
    "\n",
    "#### keras.layers.Dense(256, activation=\"relu\"),\n",
    "#### keras.layers.Dropout(0.5),\n",
    "#### keras.layers.Dense(256, activation=\"relu\"),\n",
    "#### keras.layers.Dropout(0.5),\n",
    "\n",
    "#### epochs = 10"
   ]
  },
  {
   "cell_type": "code",
   "execution_count": 8,
   "metadata": {},
   "outputs": [
    {
     "name": "stdout",
     "output_type": "stream",
     "text": [
      "Train on 55000 samples, validate on 5000 samples\n",
      "Epoch 1/10\n",
      "55000/55000 [==============================] - 275s 5ms/sample - loss: 0.2011 - accuracy: 0.9389 - val_loss: 0.0525 - val_accuracy: 0.9864\n",
      "Epoch 2/10\n",
      "55000/55000 [==============================] - 285s 5ms/sample - loss: 0.0803 - accuracy: 0.9775 - val_loss: 0.0362 - val_accuracy: 0.9904\n",
      "Epoch 3/10\n",
      "55000/55000 [==============================] - 296s 5ms/sample - loss: 0.0600 - accuracy: 0.9834 - val_loss: 0.0311 - val_accuracy: 0.9922\n",
      "Epoch 4/10\n",
      "55000/55000 [==============================] - 291s 5ms/sample - loss: 0.0480 - accuracy: 0.9860 - val_loss: 0.0303 - val_accuracy: 0.9922\n",
      "Epoch 5/10\n",
      "55000/55000 [==============================] - 272s 5ms/sample - loss: 0.0404 - accuracy: 0.9888 - val_loss: 0.0289 - val_accuracy: 0.9928\n",
      "Epoch 6/10\n",
      "55000/55000 [==============================] - 298s 5ms/sample - loss: 0.0365 - accuracy: 0.9898 - val_loss: 0.0411 - val_accuracy: 0.9900\n",
      "Epoch 7/10\n",
      "55000/55000 [==============================] - 294s 5ms/sample - loss: 0.0324 - accuracy: 0.9910 - val_loss: 0.0359 - val_accuracy: 0.9926\n",
      "Epoch 8/10\n",
      "55000/55000 [==============================] - 278s 5ms/sample - loss: 0.0291 - accuracy: 0.9919 - val_loss: 0.0367 - val_accuracy: 0.9922\n",
      "Epoch 9/10\n",
      "55000/55000 [==============================] - 269s 5ms/sample - loss: 0.0250 - accuracy: 0.9932 - val_loss: 0.0343 - val_accuracy: 0.9942\n",
      "Epoch 10/10\n",
      "55000/55000 [==============================] - 272s 5ms/sample - loss: 0.0254 - accuracy: 0.9925 - val_loss: 0.0472 - val_accuracy: 0.9918\n",
      "10000/10000 [==============================] - 8s 794us/sample - loss: 0.0340 - accuracy: 0.9918\n"
     ]
    },
    {
     "data": {
      "text/plain": [
       "[0.03396283532655866, 0.9918]"
      ]
     },
     "execution_count": 8,
     "metadata": {},
     "output_type": "execute_result"
    }
   ],
   "source": [
    "keras.backend.clear_session()\n",
    "tf.random.set_seed(42)\n",
    "np.random.seed(42)\n",
    "\n",
    "model = keras.models.Sequential([\n",
    "    \n",
    "    keras.layers.Conv2D(32, kernel_size=3, padding=\"same\", activation=\"relu\"),\n",
    "    keras.layers.Conv2D(64, kernel_size=3, padding=\"same\", activation=\"relu\"),\n",
    "    keras.layers.Conv2D(128, kernel_size=3, padding=\"same\", activation=\"relu\"),\n",
    "    \n",
    "    keras.layers.MaxPool2D(),\n",
    "    keras.layers.Flatten(),\n",
    "    keras.layers.Dropout(0.25),\n",
    "    keras.layers.Dense(256, activation=\"relu\"),\n",
    "    keras.layers.Dropout(0.5),\n",
    "    keras.layers.Dense(256, activation=\"relu\"),\n",
    "    keras.layers.Dropout(0.5),\n",
    "    keras.layers.Dense(10, activation=\"softmax\")\n",
    "])\n",
    "\n",
    "model.compile(loss=\"sparse_categorical_crossentropy\", optimizer=\"nadam\",\n",
    "              metrics=[\"accuracy\"])\n",
    "\n",
    "model.fit(X_train, y_train, epochs=10, validation_data=(X_valid, y_valid))\n",
    "\n",
    "model.evaluate(X_test, y_test)"
   ]
  },
  {
   "cell_type": "code",
   "execution_count": null,
   "metadata": {},
   "outputs": [],
   "source": []
  }
 ],
 "metadata": {
  "kernelspec": {
   "display_name": "Python 3",
   "language": "python",
   "name": "python3"
  },
  "language_info": {
   "codemirror_mode": {
    "name": "ipython",
    "version": 3
   },
   "file_extension": ".py",
   "mimetype": "text/x-python",
   "name": "python",
   "nbconvert_exporter": "python",
   "pygments_lexer": "ipython3",
   "version": "3.7.3"
  }
 },
 "nbformat": 4,
 "nbformat_minor": 4
}
